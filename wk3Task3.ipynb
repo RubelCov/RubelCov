{
 "cells": [
  {
   "cell_type": "code",
   "execution_count": 100,
   "metadata": {},
   "outputs": [],
   "source": [
    "def calculator_function():\n",
    "    num1 = int(input(\"Please enter an ODD number. \"))\n",
    "    num2 = int(input(\"Please enter an EVEN number.  \"))\n",
    "    operation = input(\"Please enter + to ADD or - to substruct or / to DIVIDE or * to MULTIPLY or ** to EXPONENTIATE, or % to percent or q to Quit\")\n",
    "    calculate(num1, num2, operation)\n",
    "\n",
    "def calculate(num1, num2, operation):\n",
    "    if operation == \"+\":\n",
    "        sum = int(num1) + int(num2)\n",
    "        print(sum)\n",
    "    elif operation == \"-\":\n",
    "        sub = int(num1) - int(num2)\n",
    "        print(sub)\n",
    "    elif operation == \"/\":\n",
    "        div = int(num1) / int(num2)\n",
    "        print(div)\n",
    "    elif operation == \"*\":\n",
    "        multi = int(num1) * int(num2)\n",
    "        print(multi)\n",
    "    elif operation == \"**\":\n",
    "        sq = int(num1) ** int(num2)\n",
    "        print(sq)\n",
    "    elif operation == \"%\":\n",
    "        per = ('{0:.2f}%'.format((int(num1) / int(num2) *100))) \n",
    "        print(per)   \n",
    "    else:\n",
    "        print(\"An appropriate operator was not selected!\")"
   ]
  },
  {
   "cell_type": "code",
   "execution_count": 101,
   "metadata": {},
   "outputs": [
    {
     "name": "stdout",
     "output_type": "stream",
     "text": [
      "25.00%\n"
     ]
    }
   ],
   "source": [
    "calculator_function()"
   ]
  },
  {
   "cell_type": "code",
   "execution_count": 1,
   "metadata": {},
   "outputs": [
    {
     "name": "stdout",
     "output_type": "stream",
     "text": [
      "Collecting numpy\n",
      "  Downloading numpy-1.22.3-cp310-cp310-win_amd64.whl (14.7 MB)\n",
      "Installing collected packages: numpy\n",
      "Successfully installed numpy-1.22.3\n",
      "Note: you may need to restart the kernel to use updated packages.\n"
     ]
    },
    {
     "name": "stderr",
     "output_type": "stream",
     "text": [
      "  WARNING: The script f2py.exe is installed in 'C:\\Users\\User\\AppData\\Local\\Programs\\Python\\Python310\\Scripts' which is not on PATH.\n",
      "  Consider adding this directory to PATH or, if you prefer to suppress this warning, use --no-warn-script-location.\n",
      "WARNING: You are using pip version 21.2.4; however, version 22.0.3 is available.\n",
      "You should consider upgrading via the 'C:\\Users\\User\\AppData\\Local\\Programs\\Python\\Python310\\python.exe -m pip install --upgrade pip' command.\n"
     ]
    }
   ],
   "source": [
    "pip install numpy"
   ]
  }
 ],
 "metadata": {
  "interpreter": {
   "hash": "aecd030d4c8316a52bf122072e28f84bcc79844c2684e041fef2e3f1d9f59078"
  },
  "kernelspec": {
   "display_name": "Python 3.10.2 64-bit",
   "language": "python",
   "name": "python3"
  },
  "language_info": {
   "codemirror_mode": {
    "name": "ipython",
    "version": 3
   },
   "file_extension": ".py",
   "mimetype": "text/x-python",
   "name": "python",
   "nbconvert_exporter": "python",
   "pygments_lexer": "ipython3",
   "version": "3.10.2"
  },
  "orig_nbformat": 4
 },
 "nbformat": 4,
 "nbformat_minor": 2
}
