{
 "cells": [
  {
   "cell_type": "code",
   "execution_count": 1,
   "metadata": {},
   "outputs": [
    {
     "name": "stdout",
     "output_type": "stream",
     "text": [
      "What can I get you then? \n",
      "Thats great, Rubel veg or chicken meal? \n",
      "Healthy choice:)\n",
      "No problem,  Rubel!\n",
      "Like ice in it?\n",
      "So, RubelYour meal is mash as a starter, a veg as a sandwich and with a drink of tango .\n"
     ]
    }
   ],
   "source": [
    "ask_name = input(\"May I have your name please? \")\n",
    "order_1 = input(\"What would you like to order today? a meal? \")\n",
    "order_2 = input(\"Would you like to have a meal deal? \")\n",
    "order_3 = input(\"Would you like to have a fries or mash? \")\n",
    "order_4 = input(\"What would you like on your sandwich? veg or chicken? \")\n",
    "order_5 = input(\"What about a drink? \")\n",
    "if order_1 == \"meal\":\n",
    "    print(\"Thats cool,  \" +ask_name+ \"!\")\n",
    "else:\n",
    "    print(\"What can I get you then? \")\n",
    "if order_2 == \"yes\" :\n",
    "    print(\"Thats great, \" +ask_name+ \" veg or chicken meal? \")\n",
    "else:\n",
    "    print(\"Anything specific? \")\n",
    "if order_3 == \"fries\":\n",
    "    print(\"Good choice. \")\n",
    "else:\n",
    "    print(\"Healthy choice\" \":)\")\n",
    "if order_4 == \"veg\":\n",
    "    print(\"No problem,  \" +ask_name+ \"!\")\n",
    "else:\n",
    "    print(\"Thats fine. \")\n",
    "if order_5 == \"Pepsi\" or order_5 == \"7up\" or order_5 == \"diet pepsi\" or order_5 == \"tango\":\n",
    "    print(\"Like ice in it?\")\n",
    "else:\n",
    "    print(\"Which hot drinks would you like?\")\n",
    "    \n",
    "print(\"So, \" +ask_name+ \"Your meal is\", \"\"+order_3+\"\" , \"as a starter, a\", \"\"+order_4+\"\" , \"as a sandwich and\", \"with a drink of\", \"\"+order_5+\"\" , \".\")"
   ]
  }
 ],
 "metadata": {
  "interpreter": {
   "hash": "aecd030d4c8316a52bf122072e28f84bcc79844c2684e041fef2e3f1d9f59078"
  },
  "kernelspec": {
   "display_name": "Python 3.10.2 64-bit",
   "language": "python",
   "name": "python3"
  },
  "language_info": {
   "codemirror_mode": {
    "name": "ipython",
    "version": 3
   },
   "file_extension": ".py",
   "mimetype": "text/x-python",
   "name": "python",
   "nbconvert_exporter": "python",
   "pygments_lexer": "ipython3",
   "version": "3.10.2"
  },
  "orig_nbformat": 4
 },
 "nbformat": 4,
 "nbformat_minor": 2
}
