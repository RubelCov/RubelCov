{
 "cells": [
  {
   "cell_type": "code",
   "execution_count": 1,
   "metadata": {},
   "outputs": [
    {
     "name": "stdout",
     "output_type": "stream",
     "text": [
      "--------------------------------------------------------------------------------\n",
      "Bike_worth\n",
      "--------------------------------------------------------------------------------\n",
      "1800.00\n",
      "1620.00\n",
      "1458.00\n",
      "1312.20\n",
      "1180.98\n",
      "1062.88\n",
      "956.59\n",
      "--------------------------------------------------------------------------------\n",
      "The bike is worth:  £956.59 at the end\n"
     ]
    }
   ],
   "source": [
    "bike_cost = 2000\n",
    "year = 0\n",
    "     \n",
    "print(\"-\"*80)\n",
    "\n",
    "print ('%10s'%\"Bike_worth\")\n",
    "print(\"-\"*80)\n",
    "\n",
    "year = 0\n",
    "while bike_cost > 1000 :\n",
    "    cur_cost = bike_cost*0.10\n",
    "    bike_cost = bike_cost - cur_cost\n",
    "    print('{:.2f}' .format(bike_cost))\n",
    "    year += 1\n",
    "    \n",
    "\n",
    "print(\"-\"*80)\n",
    "print(f\"The bike is worth:  £{bike_cost:.2f}\", \"at the end\")"
   ]
  },
  {
   "cell_type": "markdown",
   "metadata": {},
   "source": []
  }
 ],
 "metadata": {
  "interpreter": {
   "hash": "aecd030d4c8316a52bf122072e28f84bcc79844c2684e041fef2e3f1d9f59078"
  },
  "kernelspec": {
   "display_name": "Python 3.10.2 64-bit",
   "language": "python",
   "name": "python3"
  },
  "language_info": {
   "codemirror_mode": {
    "name": "ipython",
    "version": 3
   },
   "file_extension": ".py",
   "mimetype": "text/x-python",
   "name": "python",
   "nbconvert_exporter": "python",
   "pygments_lexer": "ipython3",
   "version": "3.10.2"
  },
  "orig_nbformat": 4
 },
 "nbformat": 4,
 "nbformat_minor": 2
}
