{
 "cells": [
  {
   "cell_type": "code",
   "execution_count": 61,
   "metadata": {},
   "outputs": [
    {
     "name": "stdout",
     "output_type": "stream",
     "text": [
      "      Destinations Popular_city  Avg_star_hotel  All_inclusive_hotels  \\\n",
      "0        Australia       Sydney               4                    19   \n",
      "1           Canada      Toronto               4                    15   \n",
      "2            China     Shanghai               3                     6   \n",
      "3   Czech Republic       Prague               4                     7   \n",
      "4           France        Paris               4                    21   \n",
      "5          Germany       Berlin               4                    20   \n",
      "6           Greece       Athens               3                     5   \n",
      "7            India       Mumbai               3                     6   \n",
      "8            Italy         Rome               4                    17   \n",
      "9      Netherlands    Amsterdam               4                    19   \n",
      "10          Poland       Warsaw               3                     9   \n",
      "11        Portugal       Lisbon               3                     9   \n",
      "12           Spain    Barcelona               4                    13   \n",
      "13              UK       London               4                    23   \n",
      "14              US     New York               4                    25   \n",
      "\n",
      "    Dest_feedback_score  Unnamed: 5 Unnamed: 6  \n",
      "0                   9.5         NaN             \n",
      "1                   9.5         NaN        NaN  \n",
      "2                   1.0         NaN        NaN  \n",
      "3                   7.0         NaN        NaN  \n",
      "4                   7.0         NaN        NaN  \n",
      "5                   8.0         NaN        NaN  \n",
      "6                   1.0         NaN        NaN  \n",
      "7                   1.0         NaN        NaN  \n",
      "8                   7.0         NaN        NaN  \n",
      "9                   9.5         NaN        NaN  \n",
      "10                  5.0         NaN        NaN  \n",
      "11                  6.5         NaN        NaN  \n",
      "12                  8.5         NaN        NaN  \n",
      "13                  9.0         NaN        NaN  \n",
      "14                  8.0         NaN        NaN  \n"
     ]
    }
   ],
   "source": [
    "#import all data from CSV file\n",
    "import pandas as pd\n",
    "holidays_data = pd.read_csv(\"holidays.csv\")\n",
    "print(holidays_data)\n"
   ]
  },
  {
   "cell_type": "code",
   "execution_count": 62,
   "metadata": {},
   "outputs": [
    {
     "data": {
      "text/plain": [
       "(15, 7)"
      ]
     },
     "execution_count": 62,
     "metadata": {},
     "output_type": "execute_result"
    }
   ],
   "source": [
    "# How many rows and columns are there in your file?\n",
    "holidays_data = pd.read_csv(\"holidays.csv\")\n",
    "holidays_data.shape"
   ]
  },
  {
   "cell_type": "code",
   "execution_count": 63,
   "metadata": {},
   "outputs": [
    {
     "data": {
      "text/html": [
       "<div>\n",
       "<style scoped>\n",
       "    .dataframe tbody tr th:only-of-type {\n",
       "        vertical-align: middle;\n",
       "    }\n",
       "\n",
       "    .dataframe tbody tr th {\n",
       "        vertical-align: top;\n",
       "    }\n",
       "\n",
       "    .dataframe thead th {\n",
       "        text-align: right;\n",
       "    }\n",
       "</style>\n",
       "<table border=\"1\" class=\"dataframe\">\n",
       "  <thead>\n",
       "    <tr style=\"text-align: right;\">\n",
       "      <th></th>\n",
       "      <th>Destinations</th>\n",
       "      <th>Popular_city</th>\n",
       "      <th>Avg_star_hotel</th>\n",
       "      <th>All_inclusive_hotels</th>\n",
       "      <th>Dest_feedback_score</th>\n",
       "      <th>Unnamed: 5</th>\n",
       "      <th>Unnamed: 6</th>\n",
       "    </tr>\n",
       "  </thead>\n",
       "  <tbody>\n",
       "    <tr>\n",
       "      <th>2</th>\n",
       "      <td>China</td>\n",
       "      <td>Shanghai</td>\n",
       "      <td>3</td>\n",
       "      <td>6</td>\n",
       "      <td>1.0</td>\n",
       "      <td>NaN</td>\n",
       "      <td>NaN</td>\n",
       "    </tr>\n",
       "    <tr>\n",
       "      <th>3</th>\n",
       "      <td>Czech Republic</td>\n",
       "      <td>Prague</td>\n",
       "      <td>4</td>\n",
       "      <td>7</td>\n",
       "      <td>7.0</td>\n",
       "      <td>NaN</td>\n",
       "      <td>NaN</td>\n",
       "    </tr>\n",
       "    <tr>\n",
       "      <th>4</th>\n",
       "      <td>France</td>\n",
       "      <td>Paris</td>\n",
       "      <td>4</td>\n",
       "      <td>21</td>\n",
       "      <td>7.0</td>\n",
       "      <td>NaN</td>\n",
       "      <td>NaN</td>\n",
       "    </tr>\n",
       "    <tr>\n",
       "      <th>5</th>\n",
       "      <td>Germany</td>\n",
       "      <td>Berlin</td>\n",
       "      <td>4</td>\n",
       "      <td>20</td>\n",
       "      <td>8.0</td>\n",
       "      <td>NaN</td>\n",
       "      <td>NaN</td>\n",
       "    </tr>\n",
       "    <tr>\n",
       "      <th>6</th>\n",
       "      <td>Greece</td>\n",
       "      <td>Athens</td>\n",
       "      <td>3</td>\n",
       "      <td>5</td>\n",
       "      <td>1.0</td>\n",
       "      <td>NaN</td>\n",
       "      <td>NaN</td>\n",
       "    </tr>\n",
       "  </tbody>\n",
       "</table>\n",
       "</div>"
      ],
      "text/plain": [
       "     Destinations Popular_city  Avg_star_hotel  All_inclusive_hotels  \\\n",
       "2           China     Shanghai               3                     6   \n",
       "3  Czech Republic       Prague               4                     7   \n",
       "4          France        Paris               4                    21   \n",
       "5         Germany       Berlin               4                    20   \n",
       "6          Greece       Athens               3                     5   \n",
       "\n",
       "   Dest_feedback_score  Unnamed: 5 Unnamed: 6  \n",
       "2                  1.0         NaN        NaN  \n",
       "3                  7.0         NaN        NaN  \n",
       "4                  7.0         NaN        NaN  \n",
       "5                  8.0         NaN        NaN  \n",
       "6                  1.0         NaN        NaN  "
      ]
     },
     "execution_count": 63,
     "metadata": {},
     "output_type": "execute_result"
    }
   ],
   "source": [
    "#Print row 3-8 ( using iloc/loc).\n",
    "holidays_data.iloc[2:7]"
   ]
  },
  {
   "cell_type": "code",
   "execution_count": 64,
   "metadata": {},
   "outputs": [
    {
     "data": {
      "text/plain": [
       "6.5"
      ]
     },
     "execution_count": 64,
     "metadata": {},
     "output_type": "execute_result"
    }
   ],
   "source": [
    "# Find the mean number of all-inclusive hotels across all destinations.\n",
    "\n",
    "holidays_data[\"Dest_feedback_score\"].mean()"
   ]
  },
  {
   "cell_type": "code",
   "execution_count": 65,
   "metadata": {},
   "outputs": [
    {
     "name": "stdout",
     "output_type": "stream",
     "text": [
      "                Dest_feedback_score\n",
      "Destinations                       \n",
      "Australia                       9.5\n",
      "Canada                          9.5\n",
      "China                           1.0\n",
      "Czech Republic                  7.0\n",
      "France                          7.0\n",
      "Germany                         8.0\n",
      "Greece                          1.0\n",
      "India                           1.0\n",
      "Italy                           7.0\n",
      "Netherlands                     9.5\n",
      "Poland                          5.0\n",
      "Portugal                        6.5\n",
      "Spain                           8.5\n",
      "UK                              9.0\n",
      "US                              8.0\n"
     ]
    }
   ],
   "source": [
    "# importing pandas package\n",
    "import pandas as pd\n",
    "  \n",
    "# making data frame from csv file\n",
    "data = pd.read_csv(\"holidays.csv\", index_col =\"Destinations\")\n",
    "  \n",
    "# retrieving columns by indexing operator\n",
    "first = data[[\"Dest_feedback_score\"]]\n",
    "print(first)"
   ]
  },
  {
   "cell_type": "code",
   "execution_count": 66,
   "metadata": {},
   "outputs": [
    {
     "name": "stdout",
     "output_type": "stream",
     "text": [
      "The destination with the lowest score are: 2     China\n",
      "6    Greece\n",
      "7     India\n",
      "Name: Destinations, dtype: object \n"
     ]
    }
   ],
   "source": [
    "#Find the lowest scoring destination.\n",
    "lowest_score  = holidays_data[holidays_data['Dest_feedback_score']== holidays_data.Dest_feedback_score.min()]\n",
    "\n",
    "print(f\"The destination with the lowest score are: {lowest_score.Destinations} \")"
   ]
  },
  {
   "cell_type": "code",
   "execution_count": 67,
   "metadata": {},
   "outputs": [
    {
     "name": "stdout",
     "output_type": "stream",
     "text": [
      "The destination with the highest score are: 0      Australia\n",
      "1         Canada\n",
      "9    Netherlands\n",
      "Name: Destinations, dtype: object \n"
     ]
    }
   ],
   "source": [
    "#Find the highest scoring destination\n",
    "highest_score  = holidays_data[holidays_data['Dest_feedback_score']== holidays_data.Dest_feedback_score.max()]\n",
    "\n",
    "print(f\"The destination with the highest score are: {highest_score.Destinations} \")"
   ]
  },
  {
   "cell_type": "code",
   "execution_count": 68,
   "metadata": {},
   "outputs": [
    {
     "data": {
      "text/html": [
       "<div>\n",
       "<style scoped>\n",
       "    .dataframe tbody tr th:only-of-type {\n",
       "        vertical-align: middle;\n",
       "    }\n",
       "\n",
       "    .dataframe tbody tr th {\n",
       "        vertical-align: top;\n",
       "    }\n",
       "\n",
       "    .dataframe thead th {\n",
       "        text-align: right;\n",
       "    }\n",
       "</style>\n",
       "<table border=\"1\" class=\"dataframe\">\n",
       "  <thead>\n",
       "    <tr style=\"text-align: right;\">\n",
       "      <th></th>\n",
       "      <th>Destinations</th>\n",
       "      <th>Popular_city</th>\n",
       "      <th>Avg_star_hotel</th>\n",
       "      <th>All_inclusive_hotels</th>\n",
       "      <th>Dest_feedback_score</th>\n",
       "      <th>Unnamed: 5</th>\n",
       "      <th>Unnamed: 6</th>\n",
       "    </tr>\n",
       "  </thead>\n",
       "  <tbody>\n",
       "    <tr>\n",
       "      <th>0</th>\n",
       "      <td>Australia</td>\n",
       "      <td>Sydney</td>\n",
       "      <td>4</td>\n",
       "      <td>19</td>\n",
       "      <td>9.5</td>\n",
       "      <td>NaN</td>\n",
       "      <td></td>\n",
       "    </tr>\n",
       "    <tr>\n",
       "      <th>1</th>\n",
       "      <td>Canada</td>\n",
       "      <td>Toronto</td>\n",
       "      <td>4</td>\n",
       "      <td>15</td>\n",
       "      <td>9.5</td>\n",
       "      <td>NaN</td>\n",
       "      <td>NaN</td>\n",
       "    </tr>\n",
       "    <tr>\n",
       "      <th>4</th>\n",
       "      <td>France</td>\n",
       "      <td>Paris</td>\n",
       "      <td>4</td>\n",
       "      <td>21</td>\n",
       "      <td>7.0</td>\n",
       "      <td>NaN</td>\n",
       "      <td>NaN</td>\n",
       "    </tr>\n",
       "    <tr>\n",
       "      <th>5</th>\n",
       "      <td>Germany</td>\n",
       "      <td>Berlin</td>\n",
       "      <td>4</td>\n",
       "      <td>20</td>\n",
       "      <td>8.0</td>\n",
       "      <td>NaN</td>\n",
       "      <td>NaN</td>\n",
       "    </tr>\n",
       "    <tr>\n",
       "      <th>8</th>\n",
       "      <td>Italy</td>\n",
       "      <td>Rome</td>\n",
       "      <td>4</td>\n",
       "      <td>17</td>\n",
       "      <td>7.0</td>\n",
       "      <td>NaN</td>\n",
       "      <td>NaN</td>\n",
       "    </tr>\n",
       "    <tr>\n",
       "      <th>9</th>\n",
       "      <td>Netherlands</td>\n",
       "      <td>Amsterdam</td>\n",
       "      <td>4</td>\n",
       "      <td>19</td>\n",
       "      <td>9.5</td>\n",
       "      <td>NaN</td>\n",
       "      <td>NaN</td>\n",
       "    </tr>\n",
       "    <tr>\n",
       "      <th>12</th>\n",
       "      <td>Spain</td>\n",
       "      <td>Barcelona</td>\n",
       "      <td>4</td>\n",
       "      <td>13</td>\n",
       "      <td>8.5</td>\n",
       "      <td>NaN</td>\n",
       "      <td>NaN</td>\n",
       "    </tr>\n",
       "    <tr>\n",
       "      <th>13</th>\n",
       "      <td>UK</td>\n",
       "      <td>London</td>\n",
       "      <td>4</td>\n",
       "      <td>23</td>\n",
       "      <td>9.0</td>\n",
       "      <td>NaN</td>\n",
       "      <td>NaN</td>\n",
       "    </tr>\n",
       "    <tr>\n",
       "      <th>14</th>\n",
       "      <td>US</td>\n",
       "      <td>New York</td>\n",
       "      <td>4</td>\n",
       "      <td>25</td>\n",
       "      <td>8.0</td>\n",
       "      <td>NaN</td>\n",
       "      <td>NaN</td>\n",
       "    </tr>\n",
       "  </tbody>\n",
       "</table>\n",
       "</div>"
      ],
      "text/plain": [
       "   Destinations Popular_city  Avg_star_hotel  All_inclusive_hotels  \\\n",
       "0     Australia       Sydney               4                    19   \n",
       "1        Canada      Toronto               4                    15   \n",
       "4        France        Paris               4                    21   \n",
       "5       Germany       Berlin               4                    20   \n",
       "8         Italy         Rome               4                    17   \n",
       "9   Netherlands    Amsterdam               4                    19   \n",
       "12        Spain    Barcelona               4                    13   \n",
       "13           UK       London               4                    23   \n",
       "14           US     New York               4                    25   \n",
       "\n",
       "    Dest_feedback_score  Unnamed: 5 Unnamed: 6  \n",
       "0                   9.5         NaN             \n",
       "1                   9.5         NaN        NaN  \n",
       "4                   7.0         NaN        NaN  \n",
       "5                   8.0         NaN        NaN  \n",
       "8                   7.0         NaN        NaN  \n",
       "9                   9.5         NaN        NaN  \n",
       "12                  8.5         NaN        NaN  \n",
       "13                  9.0         NaN        NaN  \n",
       "14                  8.0         NaN        NaN  "
      ]
     },
     "execution_count": 68,
     "metadata": {},
     "output_type": "execute_result"
    }
   ],
   "source": [
    "#Find all the destinations where there are more than 9 all-inclusive hotels. \n",
    "a = (holidays_data['All_inclusive_hotels'] > 9)\n",
    "filter = holidays_data[a] \n",
    "filter"
   ]
  },
  {
   "cell_type": "code",
   "execution_count": 69,
   "metadata": {},
   "outputs": [
    {
     "data": {
      "text/html": [
       "<div>\n",
       "<style scoped>\n",
       "    .dataframe tbody tr th:only-of-type {\n",
       "        vertical-align: middle;\n",
       "    }\n",
       "\n",
       "    .dataframe tbody tr th {\n",
       "        vertical-align: top;\n",
       "    }\n",
       "\n",
       "    .dataframe thead th {\n",
       "        text-align: right;\n",
       "    }\n",
       "</style>\n",
       "<table border=\"1\" class=\"dataframe\">\n",
       "  <thead>\n",
       "    <tr style=\"text-align: right;\">\n",
       "      <th></th>\n",
       "      <th>Destinations</th>\n",
       "      <th>Popular_city</th>\n",
       "      <th>Avg_star_hotel</th>\n",
       "      <th>All_inclusive_hotels</th>\n",
       "      <th>Dest_feedback_score</th>\n",
       "      <th>Unnamed: 5</th>\n",
       "      <th>Unnamed: 6</th>\n",
       "    </tr>\n",
       "  </thead>\n",
       "  <tbody>\n",
       "    <tr>\n",
       "      <th>0</th>\n",
       "      <td>Australia</td>\n",
       "      <td>Sydney</td>\n",
       "      <td>4</td>\n",
       "      <td>19</td>\n",
       "      <td>9.5</td>\n",
       "      <td>NaN</td>\n",
       "      <td></td>\n",
       "    </tr>\n",
       "    <tr>\n",
       "      <th>1</th>\n",
       "      <td>Canada</td>\n",
       "      <td>Toronto</td>\n",
       "      <td>4</td>\n",
       "      <td>15</td>\n",
       "      <td>9.5</td>\n",
       "      <td>NaN</td>\n",
       "      <td>NaN</td>\n",
       "    </tr>\n",
       "    <tr>\n",
       "      <th>9</th>\n",
       "      <td>Netherlands</td>\n",
       "      <td>Amsterdam</td>\n",
       "      <td>4</td>\n",
       "      <td>19</td>\n",
       "      <td>9.5</td>\n",
       "      <td>NaN</td>\n",
       "      <td>NaN</td>\n",
       "    </tr>\n",
       "    <tr>\n",
       "      <th>12</th>\n",
       "      <td>Spain</td>\n",
       "      <td>Barcelona</td>\n",
       "      <td>4</td>\n",
       "      <td>13</td>\n",
       "      <td>8.5</td>\n",
       "      <td>NaN</td>\n",
       "      <td>NaN</td>\n",
       "    </tr>\n",
       "    <tr>\n",
       "      <th>13</th>\n",
       "      <td>UK</td>\n",
       "      <td>London</td>\n",
       "      <td>4</td>\n",
       "      <td>23</td>\n",
       "      <td>9.0</td>\n",
       "      <td>NaN</td>\n",
       "      <td>NaN</td>\n",
       "    </tr>\n",
       "  </tbody>\n",
       "</table>\n",
       "</div>"
      ],
      "text/plain": [
       "   Destinations Popular_city  Avg_star_hotel  All_inclusive_hotels  \\\n",
       "0     Australia       Sydney               4                    19   \n",
       "1        Canada      Toronto               4                    15   \n",
       "9   Netherlands    Amsterdam               4                    19   \n",
       "12        Spain    Barcelona               4                    13   \n",
       "13           UK       London               4                    23   \n",
       "\n",
       "    Dest_feedback_score  Unnamed: 5 Unnamed: 6  \n",
       "0                   9.5         NaN             \n",
       "1                   9.5         NaN        NaN  \n",
       "9                   9.5         NaN        NaN  \n",
       "12                  8.5         NaN        NaN  \n",
       "13                  9.0         NaN        NaN  "
      ]
     },
     "execution_count": 69,
     "metadata": {},
     "output_type": "execute_result"
    }
   ],
   "source": [
    "#Filter the data by score above 8.\n",
    "a = (holidays_data['Dest_feedback_score'] > 8)\n",
    "filter = holidays_data[a] \n",
    "filter"
   ]
  },
  {
   "cell_type": "code",
   "execution_count": 70,
   "metadata": {},
   "outputs": [
    {
     "name": "stdout",
     "output_type": "stream",
     "text": [
      "=========================================================================================================\n",
      "*****!!!These cities are not SUITABLE for tourists. please REMOVE them from website IMMEDIATELY!!!***** \n",
      "=========================================================================================================\n"
     ]
    },
    {
     "data": {
      "text/html": [
       "<div>\n",
       "<style scoped>\n",
       "    .dataframe tbody tr th:only-of-type {\n",
       "        vertical-align: middle;\n",
       "    }\n",
       "\n",
       "    .dataframe tbody tr th {\n",
       "        vertical-align: top;\n",
       "    }\n",
       "\n",
       "    .dataframe thead th {\n",
       "        text-align: right;\n",
       "    }\n",
       "</style>\n",
       "<table border=\"1\" class=\"dataframe\">\n",
       "  <thead>\n",
       "    <tr style=\"text-align: right;\">\n",
       "      <th></th>\n",
       "      <th>Destinations</th>\n",
       "      <th>Popular_city</th>\n",
       "      <th>Avg_star_hotel</th>\n",
       "      <th>All_inclusive_hotels</th>\n",
       "      <th>Dest_feedback_score</th>\n",
       "      <th>Unnamed: 5</th>\n",
       "      <th>Unnamed: 6</th>\n",
       "    </tr>\n",
       "  </thead>\n",
       "  <tbody>\n",
       "    <tr>\n",
       "      <th>2</th>\n",
       "      <td>China</td>\n",
       "      <td>Shanghai</td>\n",
       "      <td>3</td>\n",
       "      <td>6</td>\n",
       "      <td>1.0</td>\n",
       "      <td>NaN</td>\n",
       "      <td>NaN</td>\n",
       "    </tr>\n",
       "    <tr>\n",
       "      <th>6</th>\n",
       "      <td>Greece</td>\n",
       "      <td>Athens</td>\n",
       "      <td>3</td>\n",
       "      <td>5</td>\n",
       "      <td>1.0</td>\n",
       "      <td>NaN</td>\n",
       "      <td>NaN</td>\n",
       "    </tr>\n",
       "    <tr>\n",
       "      <th>7</th>\n",
       "      <td>India</td>\n",
       "      <td>Mumbai</td>\n",
       "      <td>3</td>\n",
       "      <td>6</td>\n",
       "      <td>1.0</td>\n",
       "      <td>NaN</td>\n",
       "      <td>NaN</td>\n",
       "    </tr>\n",
       "  </tbody>\n",
       "</table>\n",
       "</div>"
      ],
      "text/plain": [
       "  Destinations Popular_city  Avg_star_hotel  All_inclusive_hotels  \\\n",
       "2        China     Shanghai               3                     6   \n",
       "6       Greece       Athens               3                     5   \n",
       "7        India       Mumbai               3                     6   \n",
       "\n",
       "   Dest_feedback_score  Unnamed: 5 Unnamed: 6  \n",
       "2                  1.0         NaN        NaN  \n",
       "6                  1.0         NaN        NaN  \n",
       "7                  1.0         NaN        NaN  "
      ]
     },
     "execution_count": 70,
     "metadata": {},
     "output_type": "execute_result"
    }
   ],
   "source": [
    "#Filter the data score below 2 ( I need to know if these destinations should be removed or there is a problem)\n",
    "a = (holidays_data['Dest_feedback_score'] < 2)\n",
    "filter = holidays_data[a] \n",
    "print(\"=\"*105)\n",
    "print(\"*****!!!These cities are not SUITABLE for tourists. please REMOVE them from website IMMEDIATELY!!!***** \")\n",
    "print(\"=\"*105)\n",
    "filter"
   ]
  },
  {
   "cell_type": "code",
   "execution_count": 2,
   "metadata": {},
   "outputs": [
    {
     "name": "stdout",
     "output_type": "stream",
     "text": [
      "0.7569694478582376\n"
     ]
    }
   ],
   "source": [
    "# task EXT 1 # Is there a correlation between number of all-inclusive hotels and score?\n",
    "import pandas as pd\n",
    "holidays_data = pd.read_csv(\"holidays.csv\")\n",
    "column_1 = holidays_data[\"All_inclusive_hotels\"]\n",
    "column_2 = holidays_data[\"Dest_feedback_score\"]\n",
    "correlation = column_1. corr(column_2) #calculate correlation between `column_1` and `column_2`\n",
    "print(correlation)"
   ]
  },
  {
   "cell_type": "code",
   "execution_count": 1,
   "metadata": {},
   "outputs": [
    {
     "data": {
      "text/plain": [
       "Text(0.5, 1.0, 'Destinations and Highest feedback scores')"
      ]
     },
     "execution_count": 1,
     "metadata": {},
     "output_type": "execute_result"
    },
    {
     "data": {
      "image/png": "[encoded data removed]",
      "text/plain": [
       "<Figure size 432x288 with 1 Axes>"
      ]
     },
     "metadata": {
      "needs_background": "light"
     },
     "output_type": "display_data"
    }
   ],
   "source": [
    "# Create a data visualisation diagram to show destination and highest scores?\n",
    "import pandas as pd\n",
    "import matplotlib.pyplot as plt\n",
    "df = pd.read_csv(\"holidays.csv\")\n",
    "highest_score_dest = df[df['Dest_feedback_score'] == 9.5]\n",
    "\n",
    "type(highest_score_dest)\n",
    "highest_score_dest.plot.bar(x = \"Destinations\" , y = \"Dest_feedback_score\") \n",
    "plt.title('Destinations and Highest feedback scores')"
   ]
  }
 ],
 "metadata": {
  "interpreter": {
   "hash": "aecd030d4c8316a52bf122072e28f84bcc79844c2684e041fef2e3f1d9f59078"
  },
  "kernelspec": {
   "display_name": "Python 3.10.2 64-bit",
   "language": "python",
   "name": "python3"
  },
  "language_info": {
   "codemirror_mode": {
    "name": "ipython",
    "version": 3
   },
   "file_extension": ".py",
   "mimetype": "text/x-python",
   "name": "python",
   "nbconvert_exporter": "python",
   "pygments_lexer": "ipython3",
   "version": "3.10.2"
  },
  "orig_nbformat": 4
 },
 "nbformat": 4,
 "nbformat_minor": 2
}
