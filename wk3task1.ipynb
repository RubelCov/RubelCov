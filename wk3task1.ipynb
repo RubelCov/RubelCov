import numpy as np
my_array = 