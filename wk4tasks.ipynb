{
 "cells": [
  {
   "cell_type": "code",
   "execution_count": 37,
   "metadata": {},
   "outputs": [],
   "source": [
    "# Task 1\n",
    "my_file = open(\"Numbers.txt\", \"w\")\n",
    "\n",
    "my_file.write((str(3))) \n",
    "my_file.write((\"\\n\"))\n",
    "my_file.write((str(45)))\n",
    "my_file.write((\"\\n\"))\n",
    "my_file.write((str(83)))\n",
    "my_file.write((\"\\n\"))\n",
    "my_file.write((str(21)))\n",
    "my_file.write((\"\\n\"))\n",
    "my_file.close()"
   ]
  },
  {
   "cell_type": "code",
   "execution_count": 20,
   "metadata": {},
   "outputs": [
    {
     "name": "stdout",
     "output_type": "stream",
     "text": [
      "Your grade is C \n"
     ]
    }
   ],
   "source": [
    "#Task 2\n",
    "my_mark = int(input(\"What is your mark on exam? \"))\n",
    "\n",
    "    \n",
    "if my_mark > 80:\n",
    "    print(\"Your grade is A* \")\n",
    "elif my_mark >= 70:\n",
    "    print(\"Your grade is A \")\n",
    "elif my_mark >= 60:\n",
    "    print(\"Your grade is B \")\n",
    "elif my_mark >= 50:\n",
    "    print(\"Your grade is C \")\n",
    "elif my_mark >= 40:\n",
    "    print(\"Your grade is D \")\n",
    "else:\n",
    "    print(\"Your grade is E \")\n",
    "        \n",
    "    print(\"Thank you for attending the exam. \")\n",
    "    "
   ]
  },
  {
   "cell_type": "code",
   "execution_count": 21,
   "metadata": {},
   "outputs": [
    {
     "name": "stdout",
     "output_type": "stream",
     "text": [
      "You have done an excellent result.\n"
     ]
    }
   ],
   "source": [
    "# task 2 continue ... \n",
    "target_grade = int(input(\"What is yopur target grade? \"))\n",
    "if target_grade > my_mark:\n",
    "    print(\"Try hard to score more. \")\n",
    "elif target_grade == my_mark:\n",
    "    print(\"Well done, you have hit the target.\")\n",
    "elif target_grade < my_mark:\n",
    "    print(\"You have done an excellent result.\")\n"
   ]
  },
  {
   "cell_type": "code",
   "execution_count": 39,
   "metadata": {},
   "outputs": [
    {
     "name": "stdout",
     "output_type": "stream",
     "text": [
      "[0 1 2 3 4 5 6 7 8 9]\n"
     ]
    }
   ],
   "source": [
    "#Create a 1D array of numbers from 0 to 9\n",
    "\n",
    "import numpy as np  \n",
    "my_array = np.arange(10)\n",
    "\n",
    "print(my_array)"
   ]
  },
  {
   "cell_type": "code",
   "execution_count": 40,
   "metadata": {},
   "outputs": [
    {
     "name": "stdout",
     "output_type": "stream",
     "text": [
      "[[ True  True  True]\n",
      " [ True  True  True]\n",
      " [ True  True  True]]\n"
     ]
    }
   ],
   "source": [
    "#Create a 3×3 NumPy array of all Boolean value Trues\n",
    "\n",
    "my_array = np.ones(9, dtype=bool).reshape(3,3)\n",
    "\n",
    "print(my_array)"
   ]
  },
  {
   "cell_type": "code",
   "execution_count": 41,
   "metadata": {},
   "outputs": [
    {
     "name": "stdout",
     "output_type": "stream",
     "text": [
      "[1 3 5 7 9]\n"
     ]
    }
   ],
   "source": [
    "#Extract all odd numbers from array of 1-10\n",
    "my_array = np.arange(1,10)\n",
    "odd_nums = my_array[::2]\n",
    "\n",
    "print(odd_nums)\n",
    "\n"
   ]
  },
  {
   "cell_type": "code",
   "execution_count": 42,
   "metadata": {},
   "outputs": [
    {
     "name": "stdout",
     "output_type": "stream",
     "text": [
      "[-1  2 -1  4 -1  6 -1  8 -1]\n"
     ]
    }
   ],
   "source": [
    "#Replace all odd numbers in an array of 1-10 with the value -1\n",
    "my_array = np.arange(1,10)\n",
    "new_nums = my_array[::2] = -1\n",
    "\n",
    "\n",
    "print(my_array)"
   ]
  },
  {
   "cell_type": "code",
   "execution_count": 54,
   "metadata": {},
   "outputs": [
    {
     "name": "stdout",
     "output_type": "stream",
     "text": [
      "[[ 1  2  3  4  5]\n",
      " [ 6  7  8  9 10]]\n"
     ]
    }
   ],
   "source": [
    "#Convert a 1D array to a 2D array with 2 rows\n",
    "my_array = np.array([1,2,3,4,5,6,7,8,9,10]).reshape(2,5)\n",
    "\n",
    "print(my_array)\n"
   ]
  },
  {
   "cell_type": "code",
   "execution_count": 52,
   "metadata": {},
   "outputs": [
    {
     "name": "stdout",
     "output_type": "stream",
     "text": [
      "[[1 2 3]\n",
      " [4 5 6]\n",
      " [7 8 9]]\n",
      "[[10 11 12]\n",
      " [13 14 15]\n",
      " [16 17 18]]\n",
      "[[ 84  90  96]\n",
      " [201 216 231]\n",
      " [318 342 366]]\n",
      "1944\n"
     ]
    }
   ],
   "source": [
    "#Create two arrays a and b, stack these two arrays vertically use the  np.dot and np.sum to calculate totals\n",
    "i = np.arange(1,10).reshape(3,3)\n",
    "print(i)\n",
    "j = np.arange(10,19).reshape(3,3)\n",
    "print(j)\n",
    "k = np.dot(i , j)\n",
    "print(k)\n",
    "l = np.sum(k)\n",
    "print(l)"
   ]
  },
  {
   "cell_type": "code",
   "execution_count": 47,
   "metadata": {},
   "outputs": [
    {
     "name": "stdout",
     "output_type": "stream",
     "text": [
      "[1 1 1 2 2 2 3 3 3 1 2 3 1 2 3 1 2 3]\n"
     ]
    }
   ],
   "source": [
    "\n",
    "# numpy.repeat()\n",
    "  \n",
    "import numpy as geek\n",
    "  \n",
    "\n",
    "my_array = geek.arange(1,4)\n",
    "\n",
    "    \n",
    "repetitions = 3\n",
    "a = geek.repeat(my_array, repetitions)\n",
    "\n",
    "my_array2 = np.tile([1, 2, 3], 3) # repeats 123 three times\n",
    "\n",
    "my_array3 = np.hstack((a, my_array2)) \n",
    "\n",
    "print( my_array3 )\n",
    "\n",
    "#alternatively \n",
    "# one =np.ones(3)\n",
    "# two = one + one\n",
    "# three = one * 3\n",
    "# repeat = np.arange(1,4)\n",
    "# tile = np.tile(repeat, 3)\n",
    "# final = np.concatenate((one, two, three, tile))\n",
    "# print(final)"
   ]
  },
  {
   "cell_type": "code",
   "execution_count": 56,
   "metadata": {},
   "outputs": [
    {
     "name": "stdout",
     "output_type": "stream",
     "text": [
      "[1 2 3 4 5 6 7 8 9]\n"
     ]
    }
   ],
   "source": [
    "#In two arrays a ( 1,2,3,4,5) and b ( 4,5,6,7,8,9) – remove all repeating  items present in array \n",
    "a = np.array([1,2,3,4,5])\n",
    "b = np.array([4,5,6,7,8,9])\n",
    "c = np.concatenate((a , b))\n",
    "\n",
    "c = np.unique(c)\n",
    "print(c)\n",
    "\n"
   ]
  },
  {
   "cell_type": "code",
   "execution_count": 49,
   "metadata": {},
   "outputs": [
    {
     "name": "stdout",
     "output_type": "stream",
     "text": [
      "[3 4 5 4 5 6]\n",
      "27\n"
     ]
    }
   ],
   "source": [
    "# sum values of 3 to 7 together\n",
    "import numpy as np\n",
    "a = np.array([1,2,3,4,5])\n",
    "b = np.array([4,5,6,7,8,9])\n",
    "c = np.concatenate((a ,b))\n",
    "d = c[(3 <= c) & (c < 7)]\n",
    "print(d)\n",
    "print(sum(d))"
   ]
  }
 ],
 "metadata": {
  "interpreter": {
   "hash": "aecd030d4c8316a52bf122072e28f84bcc79844c2684e041fef2e3f1d9f59078"
  },
  "kernelspec": {
   "display_name": "Python 3.10.2 64-bit",
   "language": "python",
   "name": "python3"
  },
  "language_info": {
   "codemirror_mode": {
    "name": "ipython",
    "version": 3
   },
   "file_extension": ".py",
   "mimetype": "text/x-python",
   "name": "python",
   "nbconvert_exporter": "python",
   "pygments_lexer": "ipython3",
   "version": "3.10.2"
  },
  "orig_nbformat": 4
 },
 "nbformat": 4,
 "nbformat_minor": 2
}
